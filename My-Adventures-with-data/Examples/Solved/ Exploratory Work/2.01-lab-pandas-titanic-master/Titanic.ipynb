{
 "cells": [
  {
   "cell_type": "markdown",
   "metadata": {},
   "source": [
    "### READ THE README.md FILE\n",
    "Very Helpfull, thanks."
   ]
  },
  {
   "cell_type": "code",
   "execution_count": 2,
   "metadata": {},
   "outputs": [],
   "source": [
    "import pandas as pd\n",
    "from matplotlib import pyplot as plt\n"
   ]
  },
  {
   "cell_type": "code",
   "execution_count": 3,
   "metadata": {},
   "outputs": [],
   "source": [
    "path = './data/train.csv'\n",
    "Riders = pd.read_csv(path);"
   ]
  },
  {
   "cell_type": "code",
   "execution_count": 4,
   "metadata": {},
   "outputs": [
    {
     "data": {
      "text/plain": [
       "(891, 12)"
      ]
     },
     "execution_count": 4,
     "metadata": {},
     "output_type": "execute_result"
    }
   ],
   "source": [
    "Riders.shape"
   ]
  },
  {
   "cell_type": "code",
   "execution_count": 5,
   "metadata": {},
   "outputs": [
    {
     "data": {
      "image/png": "[encoded data removed]",
      "text/plain": [
       "<Figure size 432x288 with 1 Axes>"
      ]
     },
     "metadata": {},
     "output_type": "display_data"
    }
   ],
   "source": [
    "# Create a bar chart showing how many missing values are in each column\n",
    "Riders.isnull().sum().plot(kind=\"bar\");\n",
    "plt.title(\"Number of null on each columns\");"
   ]
  },
  {
   "cell_type": "code",
   "execution_count": 33,
   "metadata": {},
   "outputs": [
    {
     "data": {
      "text/plain": [
       "'Age'"
      ]
     },
     "execution_count": 33,
     "metadata": {},
     "output_type": "execute_result"
    }
   ],
   "source": [
    "# Which column has the most `NaN` values? How many cells in that column are empty?\n",
    "Riders.isnull().sum().idxmax()"
   ]
  },
  {
   "cell_type": "code",
   "execution_count": 38,
   "metadata": {},
   "outputs": [
    {
     "data": {
      "text/plain": [
       "0"
      ]
     },
     "execution_count": 38,
     "metadata": {},
     "output_type": "execute_result"
    }
   ],
   "source": [
    "Riders.Cabin.isnull().sum()"
   ]
  },
  {
   "cell_type": "code",
   "execution_count": 8,
   "metadata": {},
   "outputs": [],
   "source": [
    "# Delete all rows where `Embarked` is empty\n",
    "Riders.Embarked.dropna(inplace=True);"
   ]
  },
  {
   "cell_type": "markdown",
   "metadata": {},
   "source": [
    "#### To reach and to make sure that my soultion is correct I first run `Riders.Embarked.value_counts(dropna=False)` which returned the number with the number of `NaN` values, then after excuting the above code the number has been reudce and removed, therefor no `NaN` value exisit."
   ]
  },
  {
   "cell_type": "markdown",
   "metadata": {},
   "source": [
    "## Question here : why `rename` did not work!? "
   ]
  },
  {
   "cell_type": "code",
   "execution_count": 9,
   "metadata": {
    "scrolled": true
   },
   "outputs": [],
   "source": [
    "# Fill all empty cabins with **¯\\\\_(ツ)_/¯**\n",
    "Riders.Cabin.fillna(value='**¯\\\\_(ツ)_/¯**',inplace=True);"
   ]
  },
  {
   "cell_type": "markdown",
   "metadata": {},
   "source": [
    "<br>"
   ]
  },
  {
   "cell_type": "markdown",
   "metadata": {},
   "source": [
    "***"
   ]
  },
  {
   "cell_type": "code",
   "execution_count": 10,
   "metadata": {},
   "outputs": [],
   "source": [
    "#### There are two columns that pertain to how many family members are on the boat for a given person. Create a new column called `FamilyCount` which will be the sum of those two columns.\n",
    "FamMembers = Riders.SibSp + Riders.Parch;\n",
    "Riders['FamMembers'] = FamMembers;"
   ]
  },
  {
   "cell_type": "markdown",
   "metadata": {},
   "source": [
    "### Question here: What is the special in there title."
   ]
  },
  {
   "cell_type": "markdown",
   "metadata": {},
   "source": [
    "#### Reverends have a special title in their name. Create a column called `IsReverend`: 1 if they're a preacher, 0 if they're not."
   ]
  },
  {
   "cell_type": "code",
   "execution_count": 11,
   "metadata": {},
   "outputs": [],
   "source": [
    "# Answer here:"
   ]
  },
  {
   "cell_type": "markdown",
   "metadata": {},
   "source": [
    "### In order to feed our training data into a classification algorithm, \n",
    " we need to convert our categories into 1's and 0's using `pd.get_dummies`\n",
    "- Create 3 columns: `Embarked_C`, `Embarked_Q` and `Embarked_S`. \n",
    " These columns will have 1's and 0's that correspond to the `C`, `Q` and `S` values in the `Embarked` column"
   ]
  },
  {
   "cell_type": "code",
   "execution_count": 12,
   "metadata": {},
   "outputs": [],
   "source": [
    "Riders['Embarked_C'] = Riders.Embarked=='C'\n",
    "Riders.Embarked_C.replace([True],1,inplace=True);"
   ]
  },
  {
   "cell_type": "code",
   "execution_count": 13,
   "metadata": {},
   "outputs": [],
   "source": [
    "Riders['Embarked_Q'] = Riders.Embarked=='Q';\n",
    "Riders.Embarked_Q.replace([True],1,inplace=True);"
   ]
  },
  {
   "cell_type": "code",
   "execution_count": 14,
   "metadata": {},
   "outputs": [],
   "source": [
    "Riders['Embarked_S'] = Riders.Embarked=='S';\n",
    "Riders.Embarked_S.replace([True],1,inplace=True);"
   ]
  },
  {
   "cell_type": "markdown",
   "metadata": {},
   "source": [
    "### Do the same thing for `Sex`"
   ]
  },
  {
   "cell_type": "code",
   "execution_count": 15,
   "metadata": {},
   "outputs": [],
   "source": [
    "Riders[\"Male\"] = Riders.Sex=='male';\n",
    "Riders.Male.replace([True],1,inplace=True);"
   ]
  },
  {
   "cell_type": "code",
   "execution_count": 16,
   "metadata": {},
   "outputs": [],
   "source": [
    "Riders[\"Female\"] = Riders.Sex=='female';\n",
    "Riders.Female.replace([True],1,inplace=True);"
   ]
  },
  {
   "cell_type": "markdown",
   "metadata": {},
   "source": [
    "<br>\n",
    "\n",
    "----\n"
   ]
  },
  {
   "cell_type": "code",
   "execution_count": 17,
   "metadata": {},
   "outputs": [
    {
     "name": "stdout",
     "output_type": "stream",
     "text": [
      "38.4%\n"
     ]
    }
   ],
   "source": [
    "# What was the survival rate overall?\n",
    "\n",
    "# Riders.Survived.value_counts(normalize=True).mul(100)\n",
    "Survived =  Riders[Riders.Survived==1].Survived.count() ; \n",
    "Overall= Riders.Survived.count();\n",
    "rate = round(((Survived/Overall)*100),1);\n",
    "print(str(rate)+\"%\");"
   ]
  },
  {
   "cell_type": "code",
   "execution_count": 18,
   "metadata": {},
   "outputs": [
    {
     "name": "stdout",
     "output_type": "stream",
     "text": [
      "26.2%\n"
     ]
    }
   ],
   "source": [
    "# Which gender fared the worst? What was their survival rate?\n",
    "\n",
    "Riders.groupby('Survived')['Sex'].describe() # this showes that the number of women is greater then man.\n",
    "SurvFema =  Riders[(Riders.Survived==1) & (Riders.Sex==\"female\")].Survived.count()\n",
    "Overall= Riders.Survived.count();\n",
    "rateFam = round(((SurvFema/Overall)*100),1);\n",
    "print(str(rateFam)+\"%\");\n",
    "# RateFemOFSur = round(((rateFam/rate)*100),1);\n",
    "# print(str(RateFemOFSur)+\"%\") // 68.2% is the percentage of Survived of women who Survived from the total survival."
   ]
  },
  {
   "cell_type": "code",
   "execution_count": 19,
   "metadata": {
    "scrolled": true
   },
   "outputs": [
    {
     "name": "stdout",
     "output_type": "stream",
     "text": [
      "63.0%\n",
      "47.3%\n",
      "24.2%\n"
     ]
    }
   ],
   "source": [
    "# What was the survival rate for each `Pclass`?\n",
    "\n",
    "Riders.groupby('Survived')['Pclass'].describe(); # Showes the numbers, the count of (1) for Pclass => 342.\n",
    "pClass_Sur_1 = Riders[(Riders.Pclass==1) & (Riders.Survived==1) ].Pclass.count();\n",
    "pClass_Sur_Total_1 = Riders[(Riders.Pclass==1) ].Pclass.count();\n",
    "Rate_Surv_1 = round(((pClass_Sur_1/pClass_Sur_Total_1)*100),1);  \n",
    "print(str(Rate_Surv_1)+\"%\");\n",
    "\n",
    "pClass_Sur_2 = Riders[(Riders.Pclass==2) & (Riders.Survived==1) ].Pclass.count();\n",
    "pClass_Sur_Total_2 = Riders[(Riders.Pclass==2) ].Pclass.count();\n",
    "Rate_Surv_2 = round(((pClass_Sur_2/pClass_Sur_Total_2)*100),1);  \n",
    "print(str(Rate_Surv_2)+\"%\");\n",
    "\n",
    "pClass_Sur_3 = Riders[(Riders.Pclass==3) & (Riders.Survived==1) ].Pclass.count();\n",
    "pClass_Sur_Total_3 = Riders[(Riders.Pclass==3) ].Pclass.count();\n",
    "Rate_Surv_3 = round(((pClass_Sur_3/pClass_Sur_Total_3)*100),1);  \n",
    "print(str(Rate_Surv_3)+\"%\");\n",
    "\n",
    "# pClass_Sur_2 = Riders[(Riders.Pclass==2) & (Riders.Survived==1) ].Pclass.count();\n",
    "# pClass_Sur_3 = Riders[(Riders.Pclass==3) & (Riders.Survived==1)].Pclass.count();\n",
    "# Rate_Surv_2 = round(((pClass_Sur_2/SurvPclass)*100),1);\n",
    "# print(str(Rate_Surv_2)+\"%\");# the rate of survived and in the Pclass number 2 is (25.4%)\n",
    "# Rate_Surv_3 = round(((pClass_Sur_3/SurvPclass)*100),1);\n",
    "# print(str(Rate_Surv_3)+\"%\");# the rate of survived and in the Pclass number 2 is (34.8%)\n",
    "# # The summation of all of them result in 100%.\n",
    "# # (0) = 549"
   ]
  },
  {
   "cell_type": "markdown",
   "metadata": {},
   "source": [
    "### Question Not solved.., Did any reverends survive? How many?"
   ]
  },
  {
   "cell_type": "code",
   "execution_count": 21,
   "metadata": {},
   "outputs": [
    {
     "name": "stdout",
     "output_type": "stream",
     "text": [
      "15.2%\n"
     ]
    }
   ],
   "source": [
    "# # What is the survival rate for people whose `Age` is empty?\n",
    "EmptySur = Riders[(Riders.Age.isnull()) & (Riders.Survived==1) ].Survived.count();\n",
    "Total_Surv = Riders[Riders.Survived==1].Survived.count();\n",
    "Rate_Surv_Empty = round(((EmptySur/Total_Surv)*100),1);  \n",
    "print(str(Rate_Surv_Empty)+\"%\");\n"
   ]
  },
  {
   "cell_type": "code",
   "execution_count": 22,
   "metadata": {},
   "outputs": [
    {
     "name": "stdout",
     "output_type": "stream",
     "text": [
      "55.4%\n",
      "39.0%\n",
      "33.7%\n"
     ]
    }
   ],
   "source": [
    "# What is the survival rate for each port of embarkation?\n",
    "Riders.groupby('Embarked')['Survived'].describe()\n",
    "Embarked_Sur_C = Riders[(Riders.Embarked=='C') & (Riders.Survived==1) ].Embarked.count();\n",
    "Embarked_Sur_Total_C = Riders[(Riders.Embarked=='C') ].Embarked.count();\n",
    "Rate_Surv_Embarked_C = round(((Embarked_Sur_C/Embarked_Sur_Total_C)*100),1);  \n",
    "print(str(Rate_Surv_Embarked_C)+\"%\");\n",
    "\n",
    "Embarked_Sur_Q = Riders[(Riders.Embarked=='Q') & (Riders.Survived==1) ].Embarked.count();\n",
    "Embarked_Sur_Total_Q = Riders[(Riders.Embarked=='Q') ].Embarked.count();\n",
    "Rate_Surv_Embarked_Q = round(((Embarked_Sur_Q/Embarked_Sur_Total_Q)*100),1);  \n",
    "print(str(Rate_Surv_Embarked_Q)+\"%\");\n",
    "\n",
    "\n",
    "Embarked_Sur_S = Riders[(Riders.Embarked=='S') & (Riders.Survived==1) ].Embarked.count();\n",
    "Embarked_Sur_Total_S = Riders[(Riders.Embarked=='S') ].Embarked.count();\n",
    "Rate_Surv_Embarked_S = round(((Embarked_Sur_S/Embarked_Sur_Total_S)*100),1);  \n",
    "print(str(Rate_Surv_Embarked_S)+\"%\");\n",
    "\n"
   ]
  },
  {
   "cell_type": "code",
   "execution_count": 23,
   "metadata": {},
   "outputs": [
    {
     "name": "stdout",
     "output_type": "stream",
     "text": [
      "1.4%\n",
      "9.2%\n",
      "3.9%\n"
     ]
    }
   ],
   "source": [
    "#  What is the survival rate for children (under 12) in each `Pclass`?\n",
    "\n",
    "# What was the survival rate for each `Pclass`?\n",
    "\n",
    "Riders.groupby('Survived')['Pclass'].describe(); # Showes the numbers, the count of (1) for Pclass => 342.\n",
    "pClass_Sur_Under12_1 = Riders[(Riders.Pclass==1) & (Riders.Survived==1) & (Riders.Age < 12)].Pclass.count();\n",
    "pClass_Sur_Total_Under12_1 = Riders[(Riders.Pclass==1) ].Pclass.count();\n",
    "Rate_Surv_Under12_1 = round(((pClass_Sur_Under12_1/pClass_Sur_Total_Under12_1)*100),1);  \n",
    "print(str(Rate_Surv_Under12_1)+\"%\");\n",
    "\n",
    "pClass_Sur_Under12_2 = Riders[(Riders.Pclass==2) & (Riders.Survived==1) & (Riders.Age < 12)].Pclass.count();\n",
    "pClass_Sur_Total_Under12_2 = Riders[(Riders.Pclass==2) ].Pclass.count();\n",
    "Rate_Surv_Under12_2 = round(((pClass_Sur_Under12_2/pClass_Sur_Total_Under12_2)*100),1);  \n",
    "print(str(Rate_Surv_Under12_2)+\"%\");\n",
    "\n",
    "\n",
    "pClass_Sur_Under12_3 = Riders[(Riders.Pclass==3) & (Riders.Survived==1) & (Riders.Age < 12)].Pclass.count();\n",
    "pClass_Sur_Total_Under12_3 = Riders[(Riders.Pclass==3) ].Pclass.count();\n",
    "Rate_Surv_Under12_3 = round(((pClass_Sur_Under12_3/pClass_Sur_Total_Under12_3)*100),1);  \n",
    "print(str(Rate_Surv_Under12_3)+\"%\");"
   ]
  },
  {
   "cell_type": "code",
   "execution_count": 24,
   "metadata": {},
   "outputs": [
    {
     "name": "stdout",
     "output_type": "stream",
     "text": [
      "No\n",
      "Yes , The captain info : \n"
     ]
    },
    {
     "data": {
      "text/html": [
       "<div>\n",
       "<style scoped>\n",
       "    .dataframe tbody tr th:only-of-type {\n",
       "        vertical-align: middle;\n",
       "    }\n",
       "\n",
       "    .dataframe tbody tr th {\n",
       "        vertical-align: top;\n",
       "    }\n",
       "\n",
       "    .dataframe thead th {\n",
       "        text-align: right;\n",
       "    }\n",
       "</style>\n",
       "<table border=\"1\" class=\"dataframe\">\n",
       "  <thead>\n",
       "    <tr style=\"text-align: right;\">\n",
       "      <th></th>\n",
       "      <th>PassengerId</th>\n",
       "      <th>Survived</th>\n",
       "      <th>Pclass</th>\n",
       "      <th>Name</th>\n",
       "      <th>Sex</th>\n",
       "      <th>Age</th>\n",
       "      <th>SibSp</th>\n",
       "      <th>Parch</th>\n",
       "      <th>Ticket</th>\n",
       "      <th>Fare</th>\n",
       "      <th>Cabin</th>\n",
       "      <th>Embarked</th>\n",
       "      <th>FamMembers</th>\n",
       "      <th>Embarked_C</th>\n",
       "      <th>Embarked_Q</th>\n",
       "      <th>Embarked_S</th>\n",
       "      <th>Male</th>\n",
       "      <th>Female</th>\n",
       "    </tr>\n",
       "  </thead>\n",
       "  <tbody>\n",
       "    <tr>\n",
       "      <th>745</th>\n",
       "      <td>746</td>\n",
       "      <td>0</td>\n",
       "      <td>1</td>\n",
       "      <td>Crosby, Capt. Edward Gifford</td>\n",
       "      <td>male</td>\n",
       "      <td>70.0</td>\n",
       "      <td>1</td>\n",
       "      <td>1</td>\n",
       "      <td>WE/P 5735</td>\n",
       "      <td>71.0</td>\n",
       "      <td>B22</td>\n",
       "      <td>S</td>\n",
       "      <td>2</td>\n",
       "      <td>0.0</td>\n",
       "      <td>0.0</td>\n",
       "      <td>1.0</td>\n",
       "      <td>1.0</td>\n",
       "      <td>0.0</td>\n",
       "    </tr>\n",
       "  </tbody>\n",
       "</table>\n",
       "</div>"
      ],
      "text/plain": [
       "     PassengerId  Survived  Pclass                          Name   Sex   Age  \\\n",
       "745          746         0       1  Crosby, Capt. Edward Gifford  male  70.0   \n",
       "\n",
       "     SibSp  Parch     Ticket  Fare Cabin Embarked  FamMembers  Embarked_C  \\\n",
       "745      1      1  WE/P 5735  71.0   B22        S           2         0.0   \n",
       "\n",
       "     Embarked_Q  Embarked_S  Male  Female  \n",
       "745         0.0         1.0   1.0     0.0  "
      ]
     },
     "execution_count": 24,
     "metadata": {},
     "output_type": "execute_result"
    }
   ],
   "source": [
    "# Did the captain of the ship survive? Is he on the list?\n",
    "print(\"No\");\n",
    "print(\"Yes , The captain info : \" );\n",
    "Riders[Riders.Name.str.contains(\"Capt\")]"
   ]
  },
  {
   "cell_type": "code",
   "execution_count": 30,
   "metadata": {},
   "outputs": [
    {
     "data": {
      "text/plain": [
       "Survived\n",
       "0    263.0\n",
       "Name: Fare, dtype: float64"
      ]
     },
     "execution_count": 30,
     "metadata": {},
     "output_type": "execute_result"
    }
   ],
   "source": [
    "# Of all the people that died, who had the most expensive ticket? How much did it cost?\n",
    "Riders[Riders.Survived==0].groupby(\"Survived\")[\"Fare\"].max()\n"
   ]
  },
  {
   "cell_type": "code",
   "execution_count": 26,
   "metadata": {},
   "outputs": [
    {
     "name": "stdout",
     "output_type": "stream",
     "text": [
      "The rate of suvrvival if you don't have a familly: | 47.7%\n",
      "The rate of suvrvival if you have a familly:       | 52.3%\n",
      "So, if you think of traviling remeber to bring your familly AlWAYS.\n"
     ]
    }
   ],
   "source": [
    "# Does having family on the boat help or hurt your chances of survival?\n",
    "TotalSurv = Riders[Riders.Survived==1].Survived.count();\n",
    "\n",
    "Family =  (Riders.SibSp!=0) | (Riders.Parch!=0)  # True = He has a Family\n",
    "notFamily = (Riders.SibSp==0) & (Riders.Parch==0) # True = He doesn't have a Family.\n",
    "WithoutFamily = Riders[(Riders.Survived==1) & notFamily ].Survived.count();\n",
    "Rate_WithoutFamily = round(((WithoutFamily/TotalSurv)*100),1);  \n",
    "print(\"The rate of suvrvival if you don't have a familly: |\",str(Rate_WithoutFamily)+\"%\");\n",
    "\n",
    "WithoFamily = Riders[(Riders.Survived==1) & Family ].Survived.count();\n",
    "Rate_WithFamily = round(((WithoFamily/TotalSurv)*100),1);  \n",
    "print(\"The rate of suvrvival if you have a familly:       |\", str(Rate_WithFamily)+\"%\");\n",
    "   \n",
    "print(\"So, if you think of traviling remeber to bring your familly AlWAYS.\")"
   ]
  }
 ],
 "metadata": {
  "kernelspec": {
   "display_name": "Python 3",
   "language": "python",
   "name": "python3"
  },
  "language_info": {
   "codemirror_mode": {
    "name": "ipython",
    "version": 3
   },
   "file_extension": ".py",
   "mimetype": "text/x-python",
   "name": "python",
   "nbconvert_exporter": "python",
   "pygments_lexer": "ipython3",
   "version": "3.6.5"
  }
 },
 "nbformat": 4,
 "nbformat_minor": 2
}
