{
 "cells": [
  {
   "cell_type": "markdown",
   "metadata": {},
   "source": [
    "# Combining DataFrames in Pandas\n",
    "---\n",
    "\n",
    "In today's project, we're going to look at nutritional information from several chain restaurants. The problem is our data is split up into several CSVs. We'll need to combine them into one dataframe, which is a very important skillset as a data scientist."
   ]
  },
  {
   "cell_type": "markdown",
   "metadata": {},
   "source": [
    "## Concatenation: Setup\n",
    "\n",
    "1. Create two dataframes from **foods-a.csv** and ** foods-b.csv**. \n",
    "2. For each dataframe, set the index to be the `id` column."
   ]
  },
  {
   "cell_type": "code",
   "execution_count": null,
   "metadata": {},
   "outputs": [],
   "source": []
  },
  {
   "cell_type": "markdown",
   "metadata": {},
   "source": [
    "## Concatenating along the row axis\n",
    "\n",
    "It's not enough to merely combine two dataframes, we have to specify whether we want them to be combined along the row axis (**axis=0**) or column axis (**axis=1**). Since our two dataframes have the same column of data, we'll want to combine them along the row axis.\n",
    "\n",
    "Using pandas' [concat](http://pandas.pydata.org/pandas-docs/stable/generated/pandas.concat.html) method, combine our two food dataframes into one:"
   ]
  },
  {
   "cell_type": "code",
   "execution_count": null,
   "metadata": {},
   "outputs": [],
   "source": []
  },
  {
   "cell_type": "markdown",
   "metadata": {},
   "source": [
    "Compare the shape of your combined dataframe to the shapes of the original two dataframes."
   ]
  },
  {
   "cell_type": "code",
   "execution_count": null,
   "metadata": {},
   "outputs": [],
   "source": []
  },
  {
   "cell_type": "markdown",
   "metadata": {},
   "source": [
    "## Concatenating along the column axis\n",
    "\n",
    "Now that we have our dataframe, let's add some nutritional information. \n",
    "\n",
    "1. Create a dataframe from **nutrition.csv**\n",
    "2. Set your index to be the id column, so that our nutrition index matches our food names index"
   ]
  },
  {
   "cell_type": "code",
   "execution_count": null,
   "metadata": {},
   "outputs": [],
   "source": []
  },
  {
   "cell_type": "markdown",
   "metadata": {},
   "source": [
    "Now that our two dataframes have the same index, we can concanate them into one dataframe along the column axis:"
   ]
  },
  {
   "cell_type": "code",
   "execution_count": null,
   "metadata": {},
   "outputs": [],
   "source": []
  },
  {
   "cell_type": "markdown",
   "metadata": {},
   "source": [
    "# Joining\n",
    "\n",
    "There are several ways to join two or more data frames. Here's an image to illustrate each possibility:\n",
    "\n",
    "![](./assets/Joins.png)"
   ]
  },
  {
   "cell_type": "markdown",
   "metadata": {},
   "source": [
    "## Joining practice\n",
    "\n",
    "Load **foods.csv** into a dataframe."
   ]
  },
  {
   "cell_type": "code",
   "execution_count": null,
   "metadata": {},
   "outputs": [],
   "source": []
  },
  {
   "cell_type": "markdown",
   "metadata": {},
   "source": [
    "You'll notice it's the same as the one we concatenated above, with a couple of extra columns: restaurant_id and category_id. These columns correspond to the `id` columns in **categories.csv** and **restaurants.csv**\n",
    "\n",
    "Load **categories.csv** and **restaurants.csv** into dataframes."
   ]
  },
  {
   "cell_type": "code",
   "execution_count": null,
   "metadata": {},
   "outputs": [],
   "source": []
  },
  {
   "cell_type": "markdown",
   "metadata": {},
   "source": [
    "Using pandas [merge](http://pandas.pydata.org/pandas-docs/stable/merging.html) method, inner join **restaurants** with **foods**."
   ]
  },
  {
   "cell_type": "code",
   "execution_count": null,
   "metadata": {},
   "outputs": [],
   "source": []
  },
  {
   "cell_type": "markdown",
   "metadata": {},
   "source": [
    "Now combine **categories** with **foods**"
   ]
  },
  {
   "cell_type": "code",
   "execution_count": null,
   "metadata": {},
   "outputs": [],
   "source": []
  },
  {
   "cell_type": "markdown",
   "metadata": {},
   "source": [
    "# Review\n",
    "---\n",
    "\n",
    "What are the differences between joining and concatenating?\n",
    "\n",
    "When would we use one or the other?"
   ]
  },
  {
   "cell_type": "code",
   "execution_count": null,
   "metadata": {},
   "outputs": [],
   "source": []
  }
 ],
 "metadata": {
  "anaconda-cloud": {},
  "kernelspec": {
   "display_name": "Python 3",
   "language": "python",
   "name": "python3"
  },
  "language_info": {
   "codemirror_mode": {
    "name": "ipython",
    "version": 3
   },
   "file_extension": ".py",
   "mimetype": "text/x-python",
   "name": "python",
   "nbconvert_exporter": "python",
   "pygments_lexer": "ipython3",
   "version": "3.6.5"
  }
 },
 "nbformat": 4,
 "nbformat_minor": 1
}
