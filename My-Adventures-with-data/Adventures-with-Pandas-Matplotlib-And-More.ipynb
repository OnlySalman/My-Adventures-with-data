{
 "cells": [
  {
   "cell_type": "markdown",
   "metadata": {},
   "source": [
    "#### Panda, Personnel documentation."
   ]
  },
  {
   "cell_type": "markdown",
   "metadata": {},
   "source": [
    "Panda is a powerfull tool, to work with data.\n",
    "Starting from the start point whihc is reading data into a dataframe as a seriese ending up into to doing the modeling."
   ]
  },
  {
   "cell_type": "markdown",
   "metadata": {},
   "source": [
    "<hr>"
   ]
  },
  {
   "cell_type": "markdown",
   "metadata": {},
   "source": [
    "### Let us talk about the main function and repeated use function in **panda**."
   ]
  },
  {
   "cell_type": "markdown",
   "metadata": {},
   "source": [
    " `head()` => return the first (5) series. To do the opposite use `tail()`. note: takes one parmeter which is an integer value\n",
    " `mean()` => retrun the avarge. `shape()` => return two value the first is the row, the second is the column. `info()`/`describe()` do smaller works which is mainly to show information about the dataset."
   ]
  },
  {
   "cell_type": "markdown",
   "metadata": {},
   "source": [
    "#### These are an important functionality to use, whenever first starting to work with the data. Mainly, to gather information, and better understand the dataset"
   ]
  },
  {
   "cell_type": "markdown",
   "metadata": {},
   "source": [
    "<hr>"
   ]
  },
  {
   "cell_type": "markdown",
   "metadata": {},
   "source": [
    "##### Boolean work on the dataset, to get a specific value on the column dataset we does the following\n"
   ]
  },
  {
   "cell_type": "markdown",
   "metadata": {},
   "source": [
    "##### let us assume **`df`** is the dataset name"
   ]
  },
  {
   "cell_type": "markdown",
   "metadata": {},
   "source": [
    "`df[df['gender']]` => Will return a column dataset, having only gender column. "
   ]
  },
  {
   "cell_type": "markdown",
   "metadata": {},
   "source": [
    "**Whenever**, we are working with a dataset we useally want more then just, getting info.\n",
    "We want to find better understand our data, we want to visulize it, and most importently we want to hit use models latter on.\n",
    "So, let's start talking about some ways to understanding our dataset with data cleaning as starter."
   ]
  },
  {
   "cell_type": "markdown",
   "metadata": {},
   "source": [
    "**Finding Nulls** or empty value is important to better understand our data."
   ]
  },
  {
   "cell_type": "markdown",
   "metadata": {},
   "source": [
    "**`df.[column].value_counts(dropne=\"True\")`** This will show you a list of a all the null values along side other values for this column."
   ]
  },
  {
   "cell_type": "markdown",
   "metadata": {},
   "source": [
    "**`df.isnull().sum()`** => This does smaller work the above the diffrent is that this code works for the dataframe itself, the oppssite is : **`df.notnull().sum()`**"
   ]
  },
  {
   "cell_type": "markdown",
   "metadata": {},
   "source": [
    "**`df.dropna()`** => drop null values, **`df.fillna()`** => replace null values "
   ]
  },
  {
   "cell_type": "markdown",
   "metadata": {},
   "source": [
    "##### These are some function that is used which help us to know the kind of data we have, wither there is missing values and how many.. it's superhelpfull, to do the experiment."
   ]
  },
  {
   "cell_type": "markdown",
   "metadata": {},
   "source": [
    "<br>"
   ]
  },
  {
   "cell_type": "markdown",
   "metadata": {},
   "source": [
    "<hr>"
   ]
  },
  {
   "cell_type": "markdown",
   "metadata": {},
   "source": [
    "<br>"
   ]
  },
  {
   "cell_type": "markdown",
   "metadata": {},
   "source": [
    "##### **The superpower of the fun gruopby**"
   ]
  },
  {
   "cell_type": "markdown",
   "metadata": {},
   "source": [
    "`df.groupby('gender')` the best way to describe this is that the beatuy of line . That this would almost create a dataset that is only containe gender only, you would be apple to call a column on it, the sum on it, and a much more."
   ]
  },
  {
   "cell_type": "markdown",
   "metadata": {},
   "source": [
    "`drinks.groupby('continent').continent.count()`<br>\n",
    "`drinks.continent.value_counts()`\n",
    "**These do the same work.**"
   ]
  },
  {
   "cell_type": "markdown",
   "metadata": {},
   "source": [
    "<hr>"
   ]
  },
  {
   "cell_type": "markdown",
   "metadata": {},
   "source": [
    "**Worthwhile, to say that there is a big difference which is between `rename()`, `replace()` the first for the column name, the second for the value occurrence in a column.**"
   ]
  },
  {
   "cell_type": "markdown",
   "metadata": {},
   "source": [
    "**To wrap up**, I would say that apply, and map are awsome way to mainplate the value and even better represent other, for example with map we can write one line code whihc will result in changing every male to => 1, and female to => 0.\n",
    "**On the other hand** apply is used to for example dublicate the column value into ten times "
   ]
  },
  {
   "cell_type": "markdown",
   "metadata": {},
   "source": [
    "<br>"
   ]
  },
  {
   "cell_type": "markdown",
   "metadata": {},
   "source": [
    "<br>\n",
    "<hr>\n",
    "<br>"
   ]
  },
  {
   "cell_type": "markdown",
   "metadata": {},
   "source": [
    "## Data Visualization Part"
   ]
  },
  {
   "cell_type": "markdown",
   "metadata": {},
   "source": [
    "<br>"
   ]
  },
  {
   "cell_type": "markdown",
   "metadata": {},
   "source": [
    "**Visualization of data is of great important. It's a way in it the data will talk to us, usually saying a lot.. and we need to listen.**"
   ]
  },
  {
   "cell_type": "markdown",
   "metadata": {},
   "source": [
    "__We start by really looking to the data, we need to work with integer values tha'ts a start. Afterthat, we look deep and close into our dataset, one of the most and start asking ourselfs what dataset would be best fit inhere? __"
   ]
  },
  {
   "cell_type": "markdown",
   "metadata": {},
   "source": [
    "__After answering this question, we then have a faug but non the less a  way in which we shell hope to express our data__"
   ]
  },
  {
   "cell_type": "markdown",
   "metadata": {},
   "source": [
    "__Befor we jumb let's but some steady ground, Whihc is the follow:__"
   ]
  },
  {
   "cell_type": "markdown",
   "metadata": {},
   "source": [
    "*  **Scatter Plot are best used whenever there is comparing happening it's great to show trends, outliers, and a general view of the relationship**\n",
    "\n",
    "*  **histgram are just an outstanding way to express the data, showing category, and showing the distraption**\n",
    "\n",
    "*  **When every we want to show a percentege we should be using pie charts..  **\n"
   ]
  },
  {
   "cell_type": "markdown",
   "metadata": {},
   "source": [
    "<hr>\n",
    "### Let's start showing the big gun, let's talk about `Matplolib`"
   ]
  },
  {
   "cell_type": "markdown",
   "metadata": {},
   "source": [
    "\n",
    "<img src=\"Img/Bagin.png\" align=\"center\" width=500 height=125>\n"
   ]
  },
  {
   "cell_type": "markdown",
   "metadata": {},
   "source": [
    "**With Limited number of steps Matplotlib will power you as developer to create a customizable outstanding charts**"
   ]
  },
  {
   "cell_type": "markdown",
   "metadata": {},
   "source": [
    "Let us put some terminology here. **Assume that plt is a shortcut for Matplotlib**"
   ]
  },
  {
   "cell_type": "markdown",
   "metadata": {},
   "source": [
    "`ax = plt.subplot()` **=> Will create a new plot**\n"
   ]
  },
  {
   "cell_type": "markdown",
   "metadata": {},
   "source": [
    "### For histgram "
   ]
  },
  {
   "cell_type": "markdown",
   "metadata": {},
   "source": [
    "`ax.hist(x)`\n",
    "**X = is an array of column which is going to warp up our data.**"
   ]
  },
  {
   "cell_type": "markdown",
   "metadata": {},
   "source": [
    "### For lines"
   ]
  },
  {
   "cell_type": "markdown",
   "metadata": {},
   "source": [
    "`ax.plot()` **=> Will create a line plot.\n",
    "X = First argument is an array like which result in index array at x-axis\n",
    "Y = is array of dataset value which represent the line part**\n",
    "\n",
    "`ax.plot()` **=> Will create a second line.\n",
    "X = First argument is an array like which result in index array at x-axis\n",
    "Y = is array of dataset value which represent the second line part** "
   ]
  },
  {
   "cell_type": "markdown",
   "metadata": {},
   "source": [
    "### For Scatter plot"
   ]
  },
  {
   "cell_type": "markdown",
   "metadata": {},
   "source": [
    "`ax.scatter(x,y)` **=> Scatter is havily and widely used in data comparing state \n",
    "x = the first coulmn.\n",
    "y = the second coulmn.\n",
    "It will show the impact and genral view of the relationship between the two column.\n",
    "**"
   ]
  },
  {
   "cell_type": "markdown",
   "metadata": {},
   "source": [
    "<br>"
   ]
  },
  {
   "cell_type": "markdown",
   "metadata": {},
   "source": [
    "## To warp up"
   ]
  },
  {
   "cell_type": "markdown",
   "metadata": {},
   "source": [
    "**Data Visualization is power in the hand of the data scientist that's not an opinion it's a fact.\n",
    "The steps needed to find the right visualization is first to explore the data. \n",
    "After exploring think of the required output.**\n",
    "- If the aim to visualize a between columns thinks of __scatter__.\n",
    "- If the aim to visualize is for a distributions think of __histgram__.\n",
    "\n",
    "__That's just for summarizing, there might be a lot more complex way such as the use of a line for a relationship, but that's what I notice.__\n",
    "\n",
    "**To wrap up I would say that meditating on the required output after that meditate on your the plot you have chosen, it will make decisions and moving forward much wiser.**"
   ]
  }
 ],
 "metadata": {
  "kernelspec": {
   "display_name": "Python 3",
   "language": "python",
   "name": "python3"
  },
  "language_info": {
   "codemirror_mode": {
    "name": "ipython",
    "version": 3
   },
   "file_extension": ".py",
   "mimetype": "text/x-python",
   "name": "python",
   "nbconvert_exporter": "python",
   "pygments_lexer": "ipython3",
   "version": "3.6.5"
  }
 },
 "nbformat": 4,
 "nbformat_minor": 2
}
